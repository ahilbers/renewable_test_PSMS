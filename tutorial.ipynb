{
 "cells": [
  {
   "cell_type": "markdown",
   "metadata": {},
   "source": [
    "# A very simple power system model tutorial\n",
    "\n",
    "This notebook provides a very simple tutorial into some of the functionality found in the models in this repository. The models are simple: they meet demand with four generation technologies (baseload (cf. nuclear), peaking (cf. gas), wind, and solar), as well as the possibility of energy storage.\n",
    "\n",
    "This notebook is only intended as a very quick introduction. For more extensive documentation, including the optimisation problem that these models solve, see the `documentation` directory."
   ]
  },
  {
   "cell_type": "code",
   "execution_count": 1,
   "metadata": {},
   "outputs": [],
   "source": [
    "# Suppress minor warnings\n",
    "import warnings\n",
    "warnings.filterwarnings('ignore')\n",
    "from IPython.display import display\n",
    "\n",
    "# Import the models\n",
    "import psm"
   ]
  },
  {
   "cell_type": "markdown",
   "metadata": {},
   "source": [
    "# One region model\n",
    "\n",
    "We start with a model with just one region, viewing the whole system as a \"copper plate\"."
   ]
  },
  {
   "cell_type": "markdown",
   "metadata": {},
   "source": [
    "### Import time series data"
   ]
  },
  {
   "cell_type": "code",
   "execution_count": 2,
   "metadata": {},
   "outputs": [
    {
     "data": {
      "text/html": [
       "<div>\n",
       "<style scoped>\n",
       "    .dataframe tbody tr th:only-of-type {\n",
       "        vertical-align: middle;\n",
       "    }\n",
       "\n",
       "    .dataframe tbody tr th {\n",
       "        vertical-align: top;\n",
       "    }\n",
       "\n",
       "    .dataframe thead th {\n",
       "        text-align: right;\n",
       "    }\n",
       "</style>\n",
       "<table border=\"1\" class=\"dataframe\">\n",
       "  <thead>\n",
       "    <tr style=\"text-align: right;\">\n",
       "      <th></th>\n",
       "      <th>demand</th>\n",
       "      <th>wind</th>\n",
       "      <th>solar</th>\n",
       "    </tr>\n",
       "    <tr>\n",
       "      <th>t</th>\n",
       "      <th></th>\n",
       "      <th></th>\n",
       "      <th></th>\n",
       "    </tr>\n",
       "  </thead>\n",
       "  <tbody>\n",
       "    <tr>\n",
       "      <th>2017-06-08 00:00:00</th>\n",
       "      <td>28.38</td>\n",
       "      <td>0.3456</td>\n",
       "      <td>0.0000</td>\n",
       "    </tr>\n",
       "    <tr>\n",
       "      <th>2017-06-08 01:00:00</th>\n",
       "      <td>27.04</td>\n",
       "      <td>0.3624</td>\n",
       "      <td>0.0000</td>\n",
       "    </tr>\n",
       "    <tr>\n",
       "      <th>2017-06-08 02:00:00</th>\n",
       "      <td>26.13</td>\n",
       "      <td>0.3609</td>\n",
       "      <td>0.0000</td>\n",
       "    </tr>\n",
       "    <tr>\n",
       "      <th>2017-06-08 03:00:00</th>\n",
       "      <td>25.61</td>\n",
       "      <td>0.3572</td>\n",
       "      <td>0.0001</td>\n",
       "    </tr>\n",
       "    <tr>\n",
       "      <th>2017-06-08 04:00:00</th>\n",
       "      <td>26.06</td>\n",
       "      <td>0.3480</td>\n",
       "      <td>0.0124</td>\n",
       "    </tr>\n",
       "    <tr>\n",
       "      <th>2017-06-08 05:00:00</th>\n",
       "      <td>30.16</td>\n",
       "      <td>0.3624</td>\n",
       "      <td>0.0426</td>\n",
       "    </tr>\n",
       "    <tr>\n",
       "      <th>2017-06-08 06:00:00</th>\n",
       "      <td>35.57</td>\n",
       "      <td>0.4005</td>\n",
       "      <td>0.0790</td>\n",
       "    </tr>\n",
       "    <tr>\n",
       "      <th>2017-06-08 07:00:00</th>\n",
       "      <td>39.23</td>\n",
       "      <td>0.4608</td>\n",
       "      <td>0.1340</td>\n",
       "    </tr>\n",
       "    <tr>\n",
       "      <th>2017-06-08 08:00:00</th>\n",
       "      <td>41.01</td>\n",
       "      <td>0.5247</td>\n",
       "      <td>0.1919</td>\n",
       "    </tr>\n",
       "    <tr>\n",
       "      <th>2017-06-08 09:00:00</th>\n",
       "      <td>41.68</td>\n",
       "      <td>0.5800</td>\n",
       "      <td>0.2248</td>\n",
       "    </tr>\n",
       "  </tbody>\n",
       "</table>\n",
       "</div>"
      ],
      "text/plain": [
       "                     demand    wind   solar\n",
       "t                                          \n",
       "2017-06-08 00:00:00   28.38  0.3456  0.0000\n",
       "2017-06-08 01:00:00   27.04  0.3624  0.0000\n",
       "2017-06-08 02:00:00   26.13  0.3609  0.0000\n",
       "2017-06-08 03:00:00   25.61  0.3572  0.0001\n",
       "2017-06-08 04:00:00   26.06  0.3480  0.0124\n",
       "2017-06-08 05:00:00   30.16  0.3624  0.0426\n",
       "2017-06-08 06:00:00   35.57  0.4005  0.0790\n",
       "2017-06-08 07:00:00   39.23  0.4608  0.1340\n",
       "2017-06-08 08:00:00   41.01  0.5247  0.1919\n",
       "2017-06-08 09:00:00   41.68  0.5800  0.2248"
      ]
     },
     "execution_count": 2,
     "metadata": {},
     "output_type": "execute_result"
    }
   ],
   "source": [
    "ts_data = psm.utils.load_time_series_data('1_region')\n",
    "ts_data = ts_data.loc['2017-06-08':'2017-06-14']\n",
    "ts_data.head(10)"
   ]
  },
  {
   "cell_type": "markdown",
   "metadata": {},
   "source": [
    "### `Operate` mode: meet demand with a fixed system\n",
    "\n",
    "In this example, the generation capacities are user-defined, and the model optimises how demand is met. This is sometimes called the *economic dispatch* or the *unit commitment* problem."
   ]
  },
  {
   "cell_type": "code",
   "execution_count": 5,
   "metadata": {},
   "outputs": [],
   "source": [
    "# Set installed capacities\n",
    "fixed_caps = {\n",
    "    'cap_baseload_total': 0.,  # MW\n",
    "    'cap_peaking_total': 0.,  # MW \n",
    "    'cap_wind_total': 0.,  # MW \n",
    "    'cap_solar_total': 0.,  # MW\n",
    "    'cap_storage_power_total': 0.,  # MW\n",
    "    'cap_storage_energy_total': 0.1  # MWh\n",
    "}\n",
    "\n",
    "# Create the model with the fixed capacities\n",
    "model = psm.models.OneRegionModel(\n",
    "    ts_data=ts_data,\n",
    "    run_mode='operate',\n",
    "    fixed_caps=fixed_caps,\n",
    "    allow_unmet=True\n",
    ")"
   ]
  },
  {
   "cell_type": "code",
   "execution_count": 6,
   "metadata": {},
   "outputs": [],
   "source": [
    "# Run the model, solve the optimisation problem\n",
    "model.run()"
   ]
  },
  {
   "cell_type": "code",
   "execution_count": null,
   "metadata": {},
   "outputs": [],
   "source": [
    "# Show a summary of outputs\n",
    "model.get_summary_outputs()"
   ]
  },
  {
   "cell_type": "code",
   "execution_count": null,
   "metadata": {},
   "outputs": [],
   "source": [
    "# Show key time series outputs\n",
    "model.get_timeseries_outputs()"
   ]
  },
  {
   "cell_type": "code",
   "execution_count": null,
   "metadata": {},
   "outputs": [],
   "source": [
    "# Change colors (for the plot only) \n",
    "model._model_data.colors.loc['peaking'] = '#888888'\n",
    "model._model_data.colors.loc['baseload'] = '#003399'\n",
    "model._model_data.colors.loc['solar'] = '#e3bb12'\n",
    "model._model_data.colors.loc['demand_power'] = '#000000'\n",
    "model._model_data.colors.loc['unmet'] = '#000000'\n",
    "model._model_data.colors.loc['wind'] = '#4eba44'\n",
    "\n",
    "# Note: these plots are sensitive to jupyter notebook settings, and may not display\n",
    "# For more robust plots, use the HTML webpage created in `scripts/main.py`\n",
    "model.plot.timeseries(array='all', subset={'costs': ['monetary']})"
   ]
  },
  {
   "cell_type": "code",
   "execution_count": null,
   "metadata": {},
   "outputs": [],
   "source": [
    "# Export all model outputs to CSV (creates directory called 'outputs_operate')\n",
    "model.to_csv('outputs_operate')"
   ]
  },
  {
   "cell_type": "markdown",
   "metadata": {},
   "source": [
    "## `Plan` mode: design cost-optimal system\n",
    "\n",
    "In this example, the model optimises both the design and operation of a system. This is sometimes called the *capacity expansion planning* problem."
   ]
  },
  {
   "cell_type": "code",
   "execution_count": null,
   "metadata": {},
   "outputs": [],
   "source": [
    "# Create the model without any fixed capacities\n",
    "model = psm.models.OneRegionModel(ts_data=ts_data, run_mode='plan')"
   ]
  },
  {
   "cell_type": "code",
   "execution_count": null,
   "metadata": {},
   "outputs": [],
   "source": [
    "# Run the model, solve the optimisation problem\n",
    "model.run()"
   ]
  },
  {
   "cell_type": "code",
   "execution_count": null,
   "metadata": {},
   "outputs": [],
   "source": [
    "# Show a summary of outputs\n",
    "model.get_summary_outputs()"
   ]
  },
  {
   "cell_type": "code",
   "execution_count": null,
   "metadata": {},
   "outputs": [],
   "source": [
    "# Change colors (for the plot only) \n",
    "model._model_data.colors.loc['peaking'] = '#888888'\n",
    "model._model_data.colors.loc['baseload'] = '#003399'\n",
    "model._model_data.colors.loc['solar'] = '#e3bb12'\n",
    "model._model_data.colors.loc['demand_power'] = '#000000'\n",
    "model._model_data.colors.loc['unmet'] = '#000000'\n",
    "model._model_data.colors.loc['wind'] = '#4eba44'\n",
    "\n",
    "# Note: these plots are sensitive to jupyter notebook settings, and may not display\n",
    "# For more robust plots, use the HTML webpage created in `scripts/main.py`\n",
    "model.plot.timeseries(array='all', subset={'costs': 'monetary'})"
   ]
  },
  {
   "cell_type": "code",
   "execution_count": null,
   "metadata": {},
   "outputs": [],
   "source": [
    "# Export all model outputs to CSV (creates directory called 'outputs_plan')\n",
    "model.to_csv('outputs_plan')"
   ]
  },
  {
   "cell_type": "markdown",
   "metadata": {},
   "source": [
    "# 6 region model\n",
    "\n",
    "<img align=\"right\" src=\"documentation/6_region_diagram.jpg\" alt=\"drawing\" width=\"300\" height=\"250\">\n",
    "\n",
    "We can do the same with a model with 6 regions. In this system, supply and demand must match across the model as a whole but electricity may be transmitted around the grid according to a topology inspired by the *IEEE 6-bus test system* and [Kamalinia & Shahidehpour (2010)](https://doi.org/10.1049/iet-gtd.2009.0695). The regions contain the following demand and generation technologies:\n",
    "- Region 1: baseload & peaking generation\n",
    "- Region 2: demand, wind and solar generation, with time series from Germany\n",
    "- Region 3: baseload & peaking generation\n",
    "- Region 4: demand, with time series from France\n",
    "- Region 5: demand, wind and solar generation, with time series from the United Kingdom\n",
    "- Region 6: baseload, peaking, wind and solar generation, with time series from Spain\n",
    "\n",
    "Transmission is permitted between regions 1-2, 1-5, 1-6, 2-3, 3-4, 4-5 and 5-6."
   ]
  },
  {
   "cell_type": "markdown",
   "metadata": {},
   "source": [
    "### Load time series data"
   ]
  },
  {
   "cell_type": "code",
   "execution_count": null,
   "metadata": {},
   "outputs": [],
   "source": [
    "ts_data = psm.utils.load_time_series_data('6_region')\n",
    "ts_data = ts_data.loc['2017-06-07':'2017-06-14']\n",
    "ts_data[ts_data < 0] = 0\n",
    "ts_data.head(10)"
   ]
  },
  {
   "cell_type": "markdown",
   "metadata": {},
   "source": [
    "### Run the model in `plan` mode"
   ]
  },
  {
   "cell_type": "code",
   "execution_count": null,
   "metadata": {},
   "outputs": [],
   "source": [
    "model = psm.models.SixRegionModel(ts_data=ts_data, run_mode='plan')\n",
    "model.run()\n",
    "display(model.get_summary_outputs())\n",
    "display(model.get_timeseries_outputs())"
   ]
  },
  {
   "cell_type": "code",
   "execution_count": null,
   "metadata": {},
   "outputs": [],
   "source": [
    "# Note: these plots are sensitive to jupyter notebook settings, and may not display\n",
    "# For more robust plots, use the HTML webpage created in `scripts/main.py`\n",
    "model.plot.timeseries(array='all', subset={'costs': 'monetary'})"
   ]
  },
  {
   "cell_type": "markdown",
   "metadata": {},
   "source": [
    "## A note on `operate` mode for the `6_region` model\n",
    "\n",
    "To run the 6-region model in `operate` mode, you'll have to set all the generation and transmission capacities in the relevant regions. To figure out the dictionary keys, you can run the model in `plan` mode and use `model.get_summary_outputs()`. From there, you have to use all rows with index of the form `cap_*_region*` and `cap_transmission_region*_region*`. For example:\n",
    "\n",
    "```\n",
    "fixed_caps = {\n",
    "    'cap_baseload_region1': 10.,\n",
    "    'cap_peaking_region1': 5.,\n",
    "    'cap_transmission_region1_region2': 15.,\n",
    "    'cap_transmission_region1_region5': 12.,\n",
    "    'cap_transmission_region1_region6': 10.,\n",
    "    'cap_wind_region2':\t32.,\n",
    "    ...\n",
    "}\n",
    "```"
   ]
  }
 ],
 "metadata": {
  "kernelspec": {
   "display_name": "Python 3 (ipykernel)",
   "language": "python",
   "name": "python3"
  },
  "language_info": {
   "codemirror_mode": {
    "name": "ipython",
    "version": 3
   },
   "file_extension": ".py",
   "mimetype": "text/x-python",
   "name": "python",
   "nbconvert_exporter": "python",
   "pygments_lexer": "ipython3",
   "version": "3.11.6"
  }
 },
 "nbformat": 4,
 "nbformat_minor": 4
}
