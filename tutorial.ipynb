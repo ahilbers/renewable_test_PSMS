{
 "cells": [
  {
   "cell_type": "markdown",
   "metadata": {},
   "source": [
    "# A very simple power system model tutorial\n",
    "\n",
    "This notebook provides a very simple tutorial into some of the functionality found in the models in this repository. The models are simple: they meet demand with four generation technologies: baseload (cf. nuclear), peaking (cf. gas), wind, and solar.\n",
    "\n",
    "This notebook is only intended as a very quick introduction. For more extensive documentation, including the optimisation problem that these models solve, see the `documentation` directory."
   ]
  },
  {
   "cell_type": "code",
   "execution_count": null,
   "metadata": {},
   "outputs": [],
   "source": [
    "# Suppress minor warnings\n",
    "import warnings\n",
    "warnings.filterwarnings('ignore')\n",
    "\n",
    "# Import the models\n",
    "import psm"
   ]
  },
  {
   "cell_type": "markdown",
   "metadata": {},
   "source": [
    "# One region model\n",
    "\n",
    "We start with a model with just one region, viewing the whole system as a \"copper plate\"."
   ]
  },
  {
   "cell_type": "markdown",
   "metadata": {},
   "source": [
    "### Import time series data"
   ]
  },
  {
   "cell_type": "code",
   "execution_count": null,
   "metadata": {},
   "outputs": [],
   "source": [
    "ts_data = psm.load_time_series_data('1_region')\n",
    "ts_data = ts_data.loc['2017-06-08':'2017-06-15']\n",
    "ts_data.head(10)"
   ]
  },
  {
   "cell_type": "markdown",
   "metadata": {},
   "source": [
    "### `Operate` mode: meet demand with a fixed system\n",
    "\n",
    "In this example, the generation capacities are user-defined, and the model optimises how demand is met. This is sometimes called the *economic dispatch* or the *unit commitment* problem."
   ]
  },
  {
   "cell_type": "code",
   "execution_count": null,
   "metadata": {},
   "outputs": [],
   "source": [
    "# Set generation capacities, in GW\n",
    "generation_capacities = {\n",
    "    'cap_baseload_total': 15.0, \n",
    "    'cap_peaking_total': 10.0, \n",
    "    'cap_wind_total': 20.0, \n",
    "    'cap_solar_total': 15.0\n",
    "}\n",
    "\n",
    "# Create the model with the fixed capacities\n",
    "model = psm.OneRegionModel(\n",
    "    ts_data=ts_data, run_mode='operate', fixed_caps=generation_capacities, allow_unmet=True\n",
    ")"
   ]
  },
  {
   "cell_type": "code",
   "execution_count": null,
   "metadata": {},
   "outputs": [],
   "source": [
    "# Run the model, solve the optimisation problem\n",
    "model.run()"
   ]
  },
  {
   "cell_type": "code",
   "execution_count": null,
   "metadata": {},
   "outputs": [],
   "source": [
    "# Show a summary of outputs\n",
    "model.get_summary_outputs()"
   ]
  },
  {
   "cell_type": "code",
   "execution_count": null,
   "metadata": {},
   "outputs": [],
   "source": [
    "# Change colors (for the plot only) \n",
    "model._model_data.colors.loc['peaking'] = '#888888'\n",
    "model._model_data.colors.loc['baseload'] = '#003399'\n",
    "model._model_data.colors.loc['solar'] = '#e3bb12'\n",
    "model._model_data.colors.loc['demand_power'] = '#000000'\n",
    "model._model_data.colors.loc['unmet'] = '#000000'\n",
    "model._model_data.colors.loc['wind'] = '#4eba44'\n",
    "\n",
    "# Note: these plots do not display well in Github -- use your own notebook\n",
    "model.plot.timeseries(array='all')"
   ]
  },
  {
   "cell_type": "code",
   "execution_count": null,
   "metadata": {},
   "outputs": [],
   "source": [
    "# Export all model outputs to CSV (creates directory called 'outputs_operate')\n",
    "model.to_csv('outputs_operate')"
   ]
  },
  {
   "cell_type": "markdown",
   "metadata": {},
   "source": [
    "## `Plan` mode: design cost-optimal system\n",
    "\n",
    "In this example, the model optimises both the design and operation of a system. This is sometimes called the *capacity expansion planning* problem."
   ]
  },
  {
   "cell_type": "code",
   "execution_count": null,
   "metadata": {},
   "outputs": [],
   "source": [
    "# Create the model without any fixed capacities\n",
    "model = psm.OneRegionModel(ts_data=ts_data, run_mode='plan')"
   ]
  },
  {
   "cell_type": "code",
   "execution_count": null,
   "metadata": {},
   "outputs": [],
   "source": [
    "# Run the model, solve the optimisation problem\n",
    "model.run()"
   ]
  },
  {
   "cell_type": "code",
   "execution_count": null,
   "metadata": {},
   "outputs": [],
   "source": [
    "# Show a summary of outputs\n",
    "model.get_summary_outputs()"
   ]
  },
  {
   "cell_type": "code",
   "execution_count": null,
   "metadata": {
    "scrolled": false
   },
   "outputs": [],
   "source": [
    "# Change colors (for the plot only) \n",
    "model._model_data.colors.loc['peaking'] = '#888888'\n",
    "model._model_data.colors.loc['baseload'] = '#003399'\n",
    "model._model_data.colors.loc['solar'] = '#e3bb12'\n",
    "model._model_data.colors.loc['demand_power'] = '#000000'\n",
    "model._model_data.colors.loc['unmet'] = '#000000'\n",
    "model._model_data.colors.loc['wind'] = '#4eba44'\n",
    "\n",
    "# Note: these plots do not display well in Github -- use your own notebook\n",
    "model.plot.timeseries(array='all')"
   ]
  },
  {
   "cell_type": "code",
   "execution_count": null,
   "metadata": {},
   "outputs": [],
   "source": [
    "# Export all model outputs to CSV (creates directory called 'outputs_plan')\n",
    "model.to_csv('outputs_plan')"
   ]
  },
  {
   "cell_type": "markdown",
   "metadata": {},
   "source": [
    "# 6 region model\n",
    "\n",
    "<img align=\"right\" src=\"documentation/6_region_diagram.jpg\" alt=\"drawing\" width=\"300\" height=\"250\">\n",
    "\n",
    "We can do the same with a model with 6 regions. In this system, supply and demand must match across the model as a whole but electricity may be transmitted around the grid according to a topology inspired by the *IEEE 6-bus test system* and [Kamalinia & Shahidehpour (2010)](https://doi.org/10.1049/iet-gtd.2009.0695). The regions contain the following demand and generation technologies:\n",
    "- Region 1: baseload & peaking generation\n",
    "- Region 2: demand, wind and solar generation, with time series from Germany\n",
    "- Region 3: baseload & peaking generation\n",
    "- Region 4: demand, with time series from France\n",
    "- Region 5: demand, wind and solar generation, with time series from the United Kingdom\n",
    "- Region 6: baseload, peaking, wind and solar generation, with time series from Spain\n",
    "\n",
    "Transmission is permitted between regions 1-2, 1-5, 1-6, 2-3, 3-4, 4-5 and 5-6."
   ]
  },
  {
   "cell_type": "markdown",
   "metadata": {},
   "source": [
    "### Load the time series data"
   ]
  },
  {
   "cell_type": "code",
   "execution_count": null,
   "metadata": {},
   "outputs": [],
   "source": [
    "ts_data = psm.load_time_series_data('6_region')\n",
    "ts_data = ts_data.loc['2017-06-07':'2017-06-15']\n",
    "ts_data[ts_data < 0] = 0\n",
    "ts_data.head(10)"
   ]
  },
  {
   "cell_type": "markdown",
   "metadata": {},
   "source": [
    "### Run the model in `plan` mode"
   ]
  },
  {
   "cell_type": "code",
   "execution_count": null,
   "metadata": {},
   "outputs": [],
   "source": [
    "model = psm.SixRegionModel(ts_data=ts_data, run_mode='plan')\n",
    "model.run()\n",
    "model.get_summary_outputs()"
   ]
  },
  {
   "cell_type": "code",
   "execution_count": null,
   "metadata": {},
   "outputs": [],
   "source": [
    "# Note: these plots do not display well in Github -- use your own notebook\n",
    "model.plot.timeseries(array='all')"
   ]
  },
  {
   "cell_type": "markdown",
   "metadata": {},
   "source": [
    "## A note on `operate` mode for the `6_region` model\n",
    "\n",
    "To run the 6-region model in `operate` mode, you'll have to set all the generation and transmission capacities in the relevant regions. To figure out the dictionary keys, you can run the model in `plan` mode and use `model.get_summary_outputs()`. From there, you have to use all rows with index of the form `cap_*_region*` and `cap_transmission_region*_region*`. For example:\n",
    "\n",
    "```\n",
    "fixed_caps = {\n",
    "    'cap_baseload_region1': 10.,\n",
    "    'cap_peaking_region1': 5.,\n",
    "    'cap_transmission_region1_region2': 15.,\n",
    "    'cap_transmission_region1_region5': 12.,\n",
    "    'cap_transmission_region1_region6': 10.,\n",
    "    'cap_wind_region2':\t32.,\n",
    "    ...\n",
    "}\n",
    "```"
   ]
  }
 ],
 "metadata": {
  "kernelspec": {
   "display_name": "Python 3",
   "language": "python",
   "name": "python3"
  },
  "language_info": {
   "codemirror_mode": {
    "name": "ipython",
    "version": 3
   },
   "file_extension": ".py",
   "mimetype": "text/x-python",
   "name": "python",
   "nbconvert_exporter": "python",
   "pygments_lexer": "ipython3",
   "version": "3.8.12"
  }
 },
 "nbformat": 4,
 "nbformat_minor": 4
}
